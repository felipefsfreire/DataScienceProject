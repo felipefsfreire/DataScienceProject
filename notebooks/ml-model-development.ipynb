{
 "cells": [
  {
   "cell_type": "markdown",
   "id": "28731cb2",
   "metadata": {},
   "source": [
    "Exploratory Data Analysis 🏗️📊 Configuration"
   ]
  },
  {
   "cell_type": "code",
   "execution_count": null,
   "id": "b54b935e",
   "metadata": {
    "vscode": {
     "languageId": "plaintext"
    }
   },
   "outputs": [],
   "source": []
  }
 ],
 "metadata": {
  "language_info": {
   "name": "python"
  }
 },
 "nbformat": 4,
 "nbformat_minor": 5
}

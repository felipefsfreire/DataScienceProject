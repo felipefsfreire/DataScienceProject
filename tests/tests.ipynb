{
 "cells": [
  {
   "cell_type": "code",
   "execution_count": 4,
   "metadata": {},
   "outputs": [
    {
     "data": {
      "text/html": [
       "\n",
       "        <iframe\n",
       "            width=\"100%\"\n",
       "            height=\"650\"\n",
       "            src=\"http://127.0.0.1:8050/\"\n",
       "            frameborder=\"0\"\n",
       "            allowfullscreen\n",
       "            \n",
       "        ></iframe>\n",
       "        "
      ],
      "text/plain": [
       "<IPython.lib.display.IFrame at 0x19a312f85c0>"
      ]
     },
     "metadata": {},
     "output_type": "display_data"
    }
   ],
   "source": [
    "import pandas as pd\n",
    "import numpy as np\n",
    "import sqlite3\n",
    "import dash\n",
    "import dash_table\n",
    "from dash import dcc, html\n",
    "import plotly.express as px\n",
    "\n",
    "# Conecta ao banco de dados SQLite\n",
    "conn = sqlite3.connect('C:/Users/santo/Documents/GitHubPublished/DataScienceProject/database/ecommerceProject.db')\n",
    "\n",
    "# Dicionário de queries SQL\n",
    "dictQuery = {\n",
    "   \n",
    "    \"querytest\": '''\n",
    "    WITH MonthlyRevenue AS (\n",
    "    SELECT\n",
    "    STRFTIME('%m-%Y', order_date) AS month,\n",
    "    ROUND(SUM(order_value),2) AS total_revenue,\n",
    "    oi.order_id,\n",
    "    oi.product_id,\n",
    "    ROW_NUMBER() OVER (PARTITION BY STRFTIME('%m-%Y', order_date) ORDER BY SUM(order_value) DESC) AS rank\n",
    "    FROM orders o\n",
    "    INNER JOIN\n",
    "    order_items oi\n",
    "    ON o.order_id = oi.order_id\n",
    "    GROUP BY\n",
    "    month,\n",
    "    o.order_id,\n",
    "    oi.product_id\n",
    ")\n",
    "SELECT\n",
    "    mr.month,\n",
    "    c.category_name,\n",
    "    mr.total_revenue\n",
    "FROM\n",
    "    MonthlyRevenue mr\n",
    "INNER JOIN\n",
    "    products p\n",
    "    ON p.product_id = mr.product_id\n",
    "INNER JOIN\n",
    "    categories c\n",
    "    ON c.category_id = p.category_id\n",
    "WHERE mr.rank = 1\n",
    "--and month like '01-%'\n",
    "and month like '%-2022'\n",
    "''',\n",
    "}\n",
    "\n",
    "def runQuery(queryKey, params=()):\n",
    "    \"\"\"Executa uma consulta SQL e retorna o resultado como um DataFrame.\"\"\"\n",
    "    query = dictQuery[queryKey]\n",
    "    return pd.read_sql(query, conn, params=params)\n",
    "\n",
    "# Executa as consultas para obter os DataFrames\n",
    "\n",
    "tQueryTest = runQuery(\"querytest\")\n",
    "\n",
    "# Inicia o aplicativo Dash\n",
    "app = dash.Dash(__name__)\n",
    "\n",
    "# Define o layout com tabelas interativas\n",
    "app.layout = html.Div([\n",
    "    html.H1(\"Tabelas do Banco de Dados Ecommerce\", style={\"textAlign\": \"center\"}),\n",
    "    \n",
    "    html.H2(\"test\"),\n",
    "    dash_table.DataTable(\n",
    "        id='customers-table',\n",
    "        columns=[{\"name\": col, \"id\": col} for col in tQueryTest.columns],\n",
    "        data=tQueryTest.to_dict('records'),\n",
    "        style_table={'height': '400px', 'overflowY': 'auto'}\n",
    "    ),\n",
    "\n",
    "])\n",
    "\n",
    "if __name__ == '__main__':\n",
    "    app.run(debug=True)  # Corrigido para 'app.run' em vez de 'app.run_server'\n"
   ]
  }
 ],
 "metadata": {
  "kernelspec": {
   "display_name": "Python 3",
   "language": "python",
   "name": "python3"
  },
  "language_info": {
   "codemirror_mode": {
    "name": "ipython",
    "version": 3
   },
   "file_extension": ".py",
   "mimetype": "text/x-python",
   "name": "python",
   "nbconvert_exporter": "python",
   "pygments_lexer": "ipython3",
   "version": "3.12.0"
  }
 },
 "nbformat": 4,
 "nbformat_minor": 2
}
